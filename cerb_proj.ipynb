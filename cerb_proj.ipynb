{
 "cells": [
  {
   "cell_type": "code",
   "execution_count": 1,
   "metadata": {},
   "outputs": [
    {
     "name": "stdout",
     "output_type": "stream",
     "text": [
      "0\n"
     ]
    }
   ],
   "source": [
    "import csv\n",
    "import pandas as pd\n",
    "\n",
    "path = \"/home/aidana/small.csv\"\n",
    "#creating new lists\n",
    "messages = []\n",
    "emails = []\n",
    "urls = []\n",
    "#updating parameter to exclude first row\n",
    "i = 0\n",
    "with open(path, encoding=\"utf8\", errors='ignore') as file:\n",
    "    reader = csv.reader(file)\n",
    "    for row in reader:\n",
    "        #excluding first row\n",
    "        if (i == 0):\n",
    "            print(i)\n",
    "        \n",
    "        else:\n",
    "            #excluding emails from atlas-tlt\n",
    "            if(row[1] != 'atlas-tlt@illinois.edu'):\n",
    "                #not including strings after the '>' character\n",
    "                head, sep, tail = row[0].partition('>')\n",
    "                #including only the id of the URL\n",
    "                key = row[2].split('/')[-1]\n",
    "\n",
    "\n",
    "                #appending appropriate lists\n",
    "                messages.append(head)\n",
    "                emails.append(row[1])\n",
    "                urls.append(key)\n",
    "            \n",
    "        i = i + 1\n",
    "            \n",
    "        \n",
    "#making pandas from messages and urls lists\n",
    "df = pd.DataFrame(list(zip(messages, urls)), \n",
    "               columns =['messages', 'urls']) \n",
    "\n",
    "#concatenating messages with the same url\n",
    "df = df.groupby(['urls'])['messages'].apply(','.join).reset_index()\n",
    "\n"
   ]
  },
  {
   "cell_type": "code",
   "execution_count": 2,
   "metadata": {},
   "outputs": [
    {
     "data": {
      "text/html": [
       "<div>\n",
       "<style scoped>\n",
       "    .dataframe tbody tr th:only-of-type {\n",
       "        vertical-align: middle;\n",
       "    }\n",
       "\n",
       "    .dataframe tbody tr th {\n",
       "        vertical-align: top;\n",
       "    }\n",
       "\n",
       "    .dataframe thead th {\n",
       "        text-align: right;\n",
       "    }\n",
       "</style>\n",
       "<table border=\"1\" class=\"dataframe\">\n",
       "  <thead>\n",
       "    <tr style=\"text-align: right;\">\n",
       "      <th></th>\n",
       "      <th>urls</th>\n",
       "      <th>messages</th>\n",
       "    </tr>\n",
       "  </thead>\n",
       "  <tbody>\n",
       "    <tr>\n",
       "      <td>0</td>\n",
       "      <td>FVG-43674-773</td>\n",
       "      <td>There are way too many, and one class is at Pa...</td>\n",
       "    </tr>\n",
       "    <tr>\n",
       "      <td>1</td>\n",
       "      <td>FZR-88171-786</td>\n",
       "      <td>Hi guys,\\n\\nHow can I add the iClicker registr...</td>\n",
       "    </tr>\n",
       "    <tr>\n",
       "      <td>2</td>\n",
       "      <td>SCA-74697-292</td>\n",
       "      <td>Hello,\\nPlease find attached the Moodle upload...</td>\n",
       "    </tr>\n",
       "    <tr>\n",
       "      <td>3</td>\n",
       "      <td>VZB-97127-932</td>\n",
       "      <td>Hi Larry,\\n\\nOk thanks for setting this up. Un...</td>\n",
       "    </tr>\n",
       "    <tr>\n",
       "      <td>4</td>\n",
       "      <td>YIL-97771-329</td>\n",
       "      <td>Excellent, thanks!  I'll get the word out on t...</td>\n",
       "    </tr>\n",
       "  </tbody>\n",
       "</table>\n",
       "</div>"
      ],
      "text/plain": [
       "            urls                                           messages\n",
       "0  FVG-43674-773  There are way too many, and one class is at Pa...\n",
       "1  FZR-88171-786  Hi guys,\\n\\nHow can I add the iClicker registr...\n",
       "2  SCA-74697-292  Hello,\\nPlease find attached the Moodle upload...\n",
       "3  VZB-97127-932  Hi Larry,\\n\\nOk thanks for setting this up. Un...\n",
       "4  YIL-97771-329  Excellent, thanks!  I'll get the word out on t..."
      ]
     },
     "execution_count": 2,
     "metadata": {},
     "output_type": "execute_result"
    }
   ],
   "source": [
    "df"
   ]
  },
  {
   "cell_type": "code",
   "execution_count": null,
   "metadata": {},
   "outputs": [],
   "source": []
  }
 ],
 "metadata": {
  "kernelspec": {
   "display_name": "Python 3",
   "language": "python",
   "name": "python3"
  },
  "language_info": {
   "codemirror_mode": {
    "name": "ipython",
    "version": 3
   },
   "file_extension": ".py",
   "mimetype": "text/x-python",
   "name": "python",
   "nbconvert_exporter": "python",
   "pygments_lexer": "ipython3",
   "version": "3.6.10"
  }
 },
 "nbformat": 4,
 "nbformat_minor": 2
}

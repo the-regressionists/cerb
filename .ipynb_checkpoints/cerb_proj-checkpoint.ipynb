{
 "cells": [
  {
   "cell_type": "code",
   "execution_count": 3,
   "metadata": {},
   "outputs": [],
   "source": [
    "import csv\n",
    "path = \"/home/aidana/small.csv\"\n",
    "message = []\n",
    "email = []\n",
    "url = []\n",
    "i = 0\n",
    "with open(path, encoding=\"utf8\", errors='ignore') as file:\n",
    "    reader = csv.reader(file)\n",
    "    for row in reader:\n",
    "        if (i = 0):\n",
    "            \n",
    "        else:\n",
    "            message.append(row[0])\n",
    "            email.append(row[1])\n",
    "            url.append(row[2])\n",
    "        i++\n",
    "            \n",
    "        \n",
    "        "
   ]
  },
  {
   "cell_type": "code",
   "execution_count": 4,
   "metadata": {},
   "outputs": [
    {
     "data": {
      "text/plain": [
       "['Message content',\n",
       " \"Hi Larry,\\n\\nOk thanks for setting this up. Unfortunately, things are still not appearing, for instance, all the lecture activities are no longer linked to anything. This is odd. I۪m not sure what۪s up.\\n\\nThanks,\\nAllison\\n\\n> On Mar 3, 2020, at 11:21 AM, ATLAS Tech Support <atlas-tlt@illinois.edu> wrote:\\n> \\n> The course is restored on shadow.learn at https://shadow.learn.illinois.edu/course/view.php?id=45962\\n> This is a duplicate of the production environment, so this will be the same as you'd get if the course were put back onto production (but shadow gets rebuilt frequently so it won't be there for a long time).\\n> I noticed there are a lot of orphaned activities in the course, so be sure to turn on editing and look through those if you haven't yet.\\n> \\n> Larry\\n> \\n> On Tue, 03 Mar 2020, aodwyer@illinois.edu wrote:\\n>> Ok sounds like a good plan thanks.\\n>> \\n>> Allison\\n>> \\n>>> On Mar 3, 2020, at 8:29 AM, ATLAS Tech Support <atlas-tlt@illinois.edu>\\n>>> wrote:\\n>>> \\n>>> I'll restore the course on to shadow.learn to see if it looks any\\n>>> different.   Even if it doesn't, we might be able to get a clue as to\\n>>> why everything didn't restore on archive.learn.\\n>>> \\n>>> Larry\\n>>> \\n>>>> On Mon, 02 Mar 2020, aodwyer@illinois.edu wrote:\\n>>>> Hi Larry,\\n>>>> \\n>>>> Just checked further and this course still appears the same as it did\\n>>>> earlier--several activities no longer linked, Unit info like learning\\n>>>> objectives etc missing. Perhaps this just happens with courses this\\n>> old. >> That's ok--I was just checking f there was a way to restore it to\\n>> how it >> looked even just last semester.\\n>>>> \\n>>>> Allison\\n>>>> \\n>>>>> On Mar 2, 2020, at 9:22 PM, Allison O'Dwyer <aodwyer@illinois.edu>\\n>>>>> wrote:\\n>>>>> \\n>>>>> Thanks Larry!\\n>>>>> \\n>>>>>> On Mar 2, 2020, at 7:50 PM, ATLAS Tech Support\\n>> <atlas-tlt@illinois.edu> >> wrote: >>\\n>>>>>> The course should be fully accessible now on archive.earn at\\n>>>> https://archive.learn.illinois.edu/course/view.php?id=3513 >> This is\\n>> why >> archive.learn exists, so if for some reason access there isn't\\n>> working we >> need to know the details.  We've turned off the read-only\\n>> setting for the >> course, so it should behave exactly the same as if it\\n>> were on learn or >> shadow.learn (which is where we would restore it\\n>> temporarily). >> >> Larry >>>>>>>> On Fri, 28 Feb 2020,\\n>> aodwyer@illinois.edu wrote: >>>>> Hi ATLAS,\\n>>>>>>> \\n>>>>>>> Is it possible to un-archive a course? We are needing access\\n>>>> specifically >>> for this course:\\n>>>>>>> \\n>>>>>>> https://archive.learn.illinois.edu/course/view.php?id=3513\\n>>>>>>> \\n>>>>>>> Thanks,\\n>>>>>>> Allison\\n>>>>>> \\n>>>>>> \\n>>>>>> \\n>>>>>> Larry Broda\\n>>>>>> ATLAS TLT\\n>>>>>> Applied Technologies for Learning in the Arts and Sciences\\n>>>>>> Teaching and Learning with Technology\\n>>>>>> Room G89, Foreign Languages Building\\n>>>>> \\n>>> \\n>>> \\n>>> \\n>>> Larry Broda\\n>>> ATLAS TLT\\n>>> Applied Technologies for Learning in the Arts and Sciences\\n>>> Teaching and Learning with Technology\\n>>> Room G89, Foreign Languages Building\\n> \\n> \\n> \\n> Larry Broda\\n> ATLAS TLT\\n> Applied Technologies for Learning in the Arts and Sciences\\n> Teaching and Learning with Technology\\n> Room G89, Foreign Languages Building\\n\\n\",\n",
       " \"There are way too many, and one class is at Parkland.\\n\\nKaren Rodriguez'G, PhD\\nDirector, Office of Undergraduate Research\\n807 S Wright St, 5th Floor\\nChampaign IL 61820\\n\\n________________________________\\nFrom: ATLAS Tech Support <atlas-tlt@illinois.edu>\\nSent: Tuesday, March 3, 2020 8:47:22 AM\\nTo: Rodriguez'G, Karen Ann <rodrigzg@illinois.edu>\\nSubject: Re: [[TLT] #FVG-43674-773] Question about Moodle\\n\\nGood morning, Karen.\\n\\nCould you please send us the Net IDs of the students and faculty members you'd like added to the site?\\n\\nRegards,\\nBianca\\n\\nBianca Teixeira\\nATLAS TLT\\nApplied Technologies for Learning in the Arts and Sciences\\nTeaching and Learning with Technology\\nRoom G89, Foreign Languages Building\\n\\nOn Mon, 02 Mar 2020, rodrigzg@illinois.edu wrote:\\n> Hi, I have a non-registrar related Moodle site for which I would like to\\n> provide guest access to students and faculty to access our forms. I don't\\n> see where I can now set a guest access login/password. I don't find it\\n> under 'enrol users.'\\n>\\n> Moodle site is: https://learn.illinois.edu/course/view.php?id=45831\\n>\\n> Thanks for your help.\\n> Karen\\n>\\n>\\n> Karen Rodriguez'G, PhD\\n> (Pronouns: She / Her / Hers)\\n> Director / Office of Undergraduate Research\\n> University of Illinois at Urbana-Champaign\\n> Fifth Floor, Illini Union Bookstore Building\\n> 807 S. Wright Street M/C 317\\n> Champaign, IL 61820\\n> Direct line: 217-300-9122\\n> OUR Office Phone: 217-300-5453\\n> ugresearch@illinois.edu<mailto:ugresearch@illinois.edu> /\\n> www.undergradresearch.illinois.edu<http://www.undergradresearch.illinois.e<http://www.undergradresearch.illinois.edu<http://www.undergradresearch.illinois.e>\\n> du>\\n>\\n> Fiddler Faculty Fellow National Center for Supercomputing Applications\\n> (NCSA) 2019/20 NCSA Faculty Affiliate 2019/20\\n> rodrigzg@illinois.edu<mailto:rodrigzg@illinois.edu>\\n\\n\\n\",\n",
       " 'Good morning,\\n\\nYou should be able to do so with the \"i>clicker Moodle integrate\" block. See our help page on that for details: http://go.illinois.edu/MoodleUseIClicker. Additionally, your students may also find the following link helpful: http://go.illinois.edu/MoodleiClicker.\\n\\nIf this doesn\\'t work, then we can connect you with David Reid, who is an iClicker specialist.\\n\\nI hope this helps! Please let us know if you are still having trouble with this.\\n\\nBest,\\n\\nPeter Tijerina\\nATLAS TLT\\nApplied Technologies for Learning in the Arts and Sciences\\nTeaching and Learning with Technology\\nRoom G89, Foreign Languages Building\\n\\nOn Tue, 03 Mar 2020, vazquezj@illinois.edu wrote:\\n> Hi guys,\\n>\\n> How can I add the iClicker registration link to my Moodle course? I\\n> haven\\'t done it in a while, and the way I used to do it is not there\\n> anymore.\\n>\\n>\\n>\\n> Cheers!\\n> Jose\\n>\\n> Sent from my iPhone\\n>\\n>\\n> Dr. Jose J. Vazquez Cognet\\n> Clinical Professor, Department of Economics\\n> Director - College of Liberal Arts and Science Teaching Academy\\n> University of Illinois at Urbana-Champaign\\n> Urbana, IL 61801\\n\\n',\n",
       " \"Hi guys,\\n\\nHow can I add the iClicker registration link to my Moodle course? I haven't done it in a while, and the way I used to do it is not there anymore.\\n\\n\\n\\nCheers!\\nJose\\n\\nSent from my iPhone\\n\\n\\nDr. Jose J. Vazquez Cognet\\nClinical Professor, Department of Economics\\nDirector - College of Liberal Arts and Science Teaching Academy\\nUniversity of Illinois at Urbana-Champaign\\nUrbana, IL 61801\\n\",\n",
       " \"The course is restored on shadow.learn at https://shadow.learn.illinois.edu/course/view.php?id=45962\\nThis is a duplicate of the production environment, so this will be the same as you'd get if the course were put back onto production (but shadow gets rebuilt frequently so it won't be there for a long time).\\nI noticed there are a lot of orphaned activities in the course, so be sure to turn on editing and look through those if you haven't yet.\\n\\nLarry\\n\\nOn Tue, 03 Mar 2020, aodwyer@illinois.edu wrote:\\n> Ok sounds like a good plan thanks.\\n>\\n> Allison\\n>\\n> > On Mar 3, 2020, at 8:29 AM, ATLAS Tech Support <atlas-tlt@illinois.edu>\\n> > wrote:\\n> >\\n> > I'll restore the course on to shadow.learn to see if it looks any\\n> > different.   Even if it doesn't, we might be able to get a clue as to\\n> > why everything didn't restore on archive.learn.\\n> >\\n> > Larry\\n> >\\n> >> On Mon, 02 Mar 2020, aodwyer@illinois.edu wrote:\\n> >> Hi Larry,\\n> >>\\n> >> Just checked further and this course still appears the same as it did\\n> >> earlier--several activities no longer linked, Unit info like learning\\n> >> objectives etc missing. Perhaps this just happens with courses this\\n> old. >> That's ok--I was just checking f there was a way to restore it to\\n> how it >> looked even just last semester.\\n> >>\\n> >> Allison\\n> >>\\n> >>> On Mar 2, 2020, at 9:22 PM, Allison O'Dwyer <aodwyer@illinois.edu>\\n> >>> wrote:\\n> >>>\\n> >>> Thanks Larry!\\n> >>>\\n> >>>> On Mar 2, 2020, at 7:50 PM, ATLAS Tech Support\\n> <atlas-tlt@illinois.edu> >> wrote: >>\\n> >>>> The course should be fully accessible now on archive.earn at\\n> >> https://archive.learn.illinois.edu/course/view.php?id=3513 >> This is\\n> why >> archive.learn exists, so if for some reason access there isn't\\n> working we >> need to know the details.  We've turned off the read-only\\n> setting for the >> course, so it should behave exactly the same as if it\\n> were on learn or >> shadow.learn (which is where we would restore it\\n> temporarily). >> >> Larry >>>>>>>> On Fri, 28 Feb 2020,\\n> aodwyer@illinois.edu wrote: >>>>> Hi ATLAS,\\n> >>>>>\\n> >>>>> Is it possible to un-archive a course? We are needing access\\n> >> specifically >>> for this course:\\n> >>>>>\\n> >>>>> https://archive.learn.illinois.edu/course/view.php?id=3513\\n> >>>>>\\n> >>>>> Thanks,\\n> >>>>> Allison\\n> >>>>\\n> >>>>\\n> >>>>\\n> >>>> Larry Broda\\n> >>>> ATLAS TLT\\n> >>>> Applied Technologies for Learning in the Arts and Sciences\\n> >>>> Teaching and Learning with Technology\\n> >>>> Room G89, Foreign Languages Building\\n> >>>\\n> >\\n> >\\n> >\\n> > Larry Broda\\n> > ATLAS TLT\\n> > Applied Technologies for Learning in the Arts and Sciences\\n> > Teaching and Learning with Technology\\n> > Room G89, Foreign Languages Building\\n\\n\\n\\nLarry Broda\\nATLAS TLT\\nApplied Technologies for Learning in the Arts and Sciences\\nTeaching and Learning with Technology\\nRoom G89, Foreign Languages Building\"]"
      ]
     },
     "execution_count": 4,
     "metadata": {},
     "output_type": "execute_result"
    }
   ],
   "source": [
    "message\n"
   ]
  },
  {
   "cell_type": "code",
   "execution_count": null,
   "metadata": {},
   "outputs": [],
   "source": []
  }
 ],
 "metadata": {
  "kernelspec": {
   "display_name": "Python 3",
   "language": "python",
   "name": "python3"
  },
  "language_info": {
   "codemirror_mode": {
    "name": "ipython",
    "version": 3
   },
   "file_extension": ".py",
   "mimetype": "text/x-python",
   "name": "python",
   "nbconvert_exporter": "python",
   "pygments_lexer": "ipython3",
   "version": "3.6.10"
  }
 },
 "nbformat": 4,
 "nbformat_minor": 2
}
